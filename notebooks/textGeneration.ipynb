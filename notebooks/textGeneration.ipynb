{
 "cells": [
  {
   "cell_type": "code",
   "execution_count": 1,
   "metadata": {},
   "outputs": [],
   "source": [
    "import torch\n",
    "import transformers"
   ]
  },
  {
   "cell_type": "code",
   "execution_count": 2,
   "metadata": {},
   "outputs": [
    {
     "name": "stdout",
     "output_type": "stream",
     "text": [
      "Pytorch:       1.3.0\n",
      "Transformers:  2.1.1\n",
      "GPU available: True\n",
      "GPU name:      GeForce GTX 1080 Ti\n"
     ]
    }
   ],
   "source": [
    "print(\"Pytorch:      \", torch.__version__)\n",
    "print(\"Transformers: \", transformers.__version__)\n",
    "print(\"GPU available:\", torch.cuda.is_available())\n",
    "print(\"GPU name:     \", torch.cuda.get_device_name(0))"
   ]
  },
  {
   "cell_type": "markdown",
   "metadata": {},
   "source": [
    "# Model: Distilled GPT-2 (6 layer, 82M params)"
   ]
  },
  {
   "cell_type": "code",
   "execution_count": null,
   "metadata": {},
   "outputs": [],
   "source": [
    "tokenizer = transformers.DistilBertTokenizer.from_pretrained('distilgpt2')\n",
    "model     = transformers.DistilBertModel.from_pretrained('distilgpt2')\n",
    "modelLM   = transformers.DistilBertForMaskedLM.from_pretrained('distilgpt2')"
   ]
  },
  {
   "cell_type": "markdown",
   "metadata": {},
   "source": [
    "# Model GPT-2 small (12 layer, 117M params)"
   ]
  },
  {
   "cell_type": "code",
   "execution_count": 3,
   "metadata": {},
   "outputs": [],
   "source": [
    "tokenizer = transformers.GPT2Tokenizer.from_pretrained('gpt2')\n",
    "model     = transformers.GPT2Model.from_pretrained('gpt2')\n",
    "modelLM   = transformers.GPT2LMHeadModel.from_pretrained('gpt2')"
   ]
  },
  {
   "cell_type": "markdown",
   "metadata": {},
   "source": [
    "# Model GPT-2 medium (24 layer, 345M params)"
   ]
  },
  {
   "cell_type": "code",
   "execution_count": null,
   "metadata": {},
   "outputs": [],
   "source": [
    "tokenizer = transformers.GPT2Tokenizer.from_pretrained('gpt2-medium')\n",
    "model     = transformers.GPT2Model.from_pretrained('gpt2-medium')\n",
    "modelLM   = transformers.GPT2LMHeadModel.from_pretrained('gpt2-medium')"
   ]
  },
  {
   "cell_type": "markdown",
   "metadata": {},
   "source": [
    "# Model GPT-2 large (36 layer, 774M params)"
   ]
  },
  {
   "cell_type": "code",
   "execution_count": null,
   "metadata": {},
   "outputs": [],
   "source": [
    "tokenizer = transformers.GPT2Tokenizer.from_pretrained('gpt2-large')\n",
    "model     = transformers.GPT2Model.from_pretrained('gpt2-large')\n",
    "modelLM   = transformers.GPT2LMHeadModel.from_pretrained('gpt2-large')"
   ]
  },
  {
   "cell_type": "markdown",
   "metadata": {},
   "source": [
    "# Model CTRL huge (48 layer, 1630M params)"
   ]
  },
  {
   "cell_type": "code",
   "execution_count": null,
   "metadata": {},
   "outputs": [],
   "source": [
    "tokenizer = transformers.CTRLTokenizer.from_pretrained('ctrl')\n",
    "modelLM   = transformers.CTRLLMHeadModel.from_pretrained('ctrl')"
   ]
  },
  {
   "cell_type": "markdown",
   "metadata": {},
   "source": [
    "# Language model"
   ]
  },
  {
   "cell_type": "code",
   "execution_count": 29,
   "metadata": {},
   "outputs": [
    {
     "data": {
      "text/plain": [
       "'I have two dogs and one is a puppy'"
      ]
     },
     "execution_count": 29,
     "metadata": {},
     "output_type": "execute_result"
    }
   ],
   "source": [
    "# Encode a text inputs\n",
    "text = \"I have two dogs and one is a\"\n",
    "indexed_tokens = tokenizer.encode(text)\n",
    "\n",
    "# Convert indexed tokens in a PyTorch tensor\n",
    "tokens_tensor = torch.tensor([indexed_tokens])\n",
    "\n",
    "modelLM.eval()\n",
    "\n",
    "# If you have a GPU, put everything on cuda\n",
    "tokens_tensor = tokens_tensor.to('cuda')\n",
    "modelLM.to('cuda')\n",
    "\n",
    "# Predict all tokens\n",
    "with torch.no_grad():\n",
    "    outputs = modelLM(tokens_tensor)\n",
    "    predictions = outputs[0]\n",
    "    \n",
    "# get the predicted next sub-word (in our case, the word 'man')\n",
    "predicted_index = torch.argmax(predictions[0, -1, :]).item()\n",
    "predicted_text = tokenizer.decode(indexed_tokens + [predicted_index])\n",
    "predicted_text"
   ]
  },
  {
   "cell_type": "markdown",
   "metadata": {},
   "source": [
    "# Naive text generation\n",
    "Only a Language Model"
   ]
  },
  {
   "cell_type": "code",
   "execution_count": 5,
   "metadata": {},
   "outputs": [
    {
     "name": "stdout",
     "output_type": "stream",
     "text": [
      "I have two dogs and one is a puppy. I have a dog who is a little bit older than me and I have a dog who\n"
     ]
    }
   ],
   "source": [
    "# Encode a text inputs\n",
    "text   = \"I have two dogs and one is a\"\n",
    "tokens = tokenizer.encode(text)\n",
    "\n",
    "# Parameters\n",
    "lenght = 20\n",
    "\n",
    "for _ in range(lenght):\n",
    "    tokens_tensor = torch.tensor([tokens])\n",
    "    predictions   = modelLM(tokens_tensor)[0]\n",
    "    next_token    = torch.argmax(predictions[0, -1, :]).item()\n",
    "    tokens        += [next_token]\n",
    "    \n",
    "print(tokenizer.decode(tokens))\n",
    "    "
   ]
  },
  {
   "cell_type": "markdown",
   "metadata": {},
   "source": [
    "# Text generation\n",
    "LM with repetition_penalty & temperature\n",
    "\n",
    "- Temperature is the level of randomization. Lower value will have a high chance to output data from WebText’s test set."
   ]
  },
  {
   "cell_type": "code",
   "execution_count": 8,
   "metadata": {},
   "outputs": [
    {
     "name": "stdout",
     "output_type": "stream",
     "text": [
      "I have two dogs and one is a two and a two and a two and a two and a two and a two and a two and\n"
     ]
    }
   ],
   "source": [
    "# Encode a text inputs\n",
    "text = \"I have two dogs and one is a\"\n",
    "sequence = tokenizer.encode(text)\n",
    "\n",
    "# Parameters\n",
    "lenght = 20\n",
    "repetition_penalty = 1.5\n",
    "temperature = 1 #0.2\n",
    "\n",
    "for _ in range(lenght):\n",
    "    tokens_tensor = torch.tensor([sequence])\n",
    "    logits = modelLM(tokens_tensor)[0]\n",
    "    \n",
    "    next_token_logits = logits[0, -1, :] / temperature\n",
    "    \n",
    "    for token in set(sequence):\n",
    "        next_token_logits[token] /= repetition_penalty\n",
    "        \n",
    "    next_token = torch.argmax(next_token_logits).item()\n",
    "    sequence += [next_token]\n",
    "    \n",
    "print(tokenizer.decode(sequence))\n",
    "    "
   ]
  },
  {
   "cell_type": "code",
   "execution_count": null,
   "metadata": {},
   "outputs": [],
   "source": []
  }
 ],
 "metadata": {
  "kernelspec": {
   "display_name": "Python 3",
   "language": "python",
   "name": "python3"
  },
  "language_info": {
   "codemirror_mode": {
    "name": "ipython",
    "version": 3
   },
   "file_extension": ".py",
   "mimetype": "text/x-python",
   "name": "python",
   "nbconvert_exporter": "python",
   "pygments_lexer": "ipython3",
   "version": "3.8.1"
  }
 },
 "nbformat": 4,
 "nbformat_minor": 2
}
